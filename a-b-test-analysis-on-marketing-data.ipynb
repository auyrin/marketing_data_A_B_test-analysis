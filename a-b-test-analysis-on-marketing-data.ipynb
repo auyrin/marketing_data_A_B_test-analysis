{
 "cells": [
  {
   "cell_type": "markdown",
   "id": "9bb70907",
   "metadata": {
    "papermill": {
     "duration": 0.007486,
     "end_time": "2023-05-18T19:39:31.287153",
     "exception": false,
     "start_time": "2023-05-18T19:39:31.279667",
     "status": "completed"
    },
    "tags": []
   },
   "source": [
    "### Marketing A/B testing dataset\n",
    "Marketing companies want to run successful campaigns, but the market is complex and several options can work. So normally they tun A/B tests, that is a randomized experimentation process wherein two or more versions of a variable (web page, page element, banner, etc.) are shown to different segments of people at the same time to determine which version leaves the maximum impact and drive business metrics.\n",
    "\n",
    "The companies are interested in answering two questions:\n",
    "\n",
    "### Would the campaign be successful?\n",
    "If the campaign was successful, how much of that success could be attributed to the ads?\n",
    "With the second question in mind, we normally do an A/B test. The majority of the people will be exposed to ads (the experimental group). And a small portion of people (the control group) would instead see a Public Service Announcement (PSA) (or nothing) in the exact size and place the ad would normally be.\n",
    "\n",
    "The idea of the dataset is to analyze the groups, find if the ads were successful, how much the company can make from the ads, and if the difference between the groups is statistically significant.\n",
    "\n",
    "### Data dictionary:\n",
    "\n",
    "Index: Row index\n",
    "user id: User ID (unique)\n",
    "test group: If \"ad\" the person saw the advertisement, if \"psa\" they only saw the public service announcement\n",
    "converted: If a person bought the product then True, else is False\n",
    "total ads: Amount of ads seen by person\n",
    "most ads day: Day that the person saw the biggest amount of ads\n",
    "most ads hour: Hour of day that the person saw the biggest amount of ads"
   ]
  },
  {
   "cell_type": "code",
   "execution_count": 1,
   "id": "76b19e28",
   "metadata": {
    "_cell_guid": "b1076dfc-b9ad-4769-8c92-a6c4dae69d19",
    "_uuid": "8f2839f25d086af736a60e9eeb907d3b93b6e0e5",
    "execution": {
     "iopub.execute_input": "2023-05-18T19:39:31.302904Z",
     "iopub.status.busy": "2023-05-18T19:39:31.302509Z",
     "iopub.status.idle": "2023-05-18T19:39:31.323297Z",
     "shell.execute_reply": "2023-05-18T19:39:31.322556Z"
    },
    "papermill": {
     "duration": 0.031721,
     "end_time": "2023-05-18T19:39:31.325699",
     "exception": false,
     "start_time": "2023-05-18T19:39:31.293978",
     "status": "completed"
    },
    "tags": []
   },
   "outputs": [
    {
     "name": "stdout",
     "output_type": "stream",
     "text": [
      "/kaggle/input/marketing-ab-testing/marketing_AB.csv\n"
     ]
    }
   ],
   "source": [
    "# This Python 3 environment comes with many helpful analytics libraries installed\n",
    "# It is defined by the kaggle/python Docker image: https://github.com/kaggle/docker-python\n",
    "# For example, here's several helpful packages to load\n",
    "\n",
    "import numpy as np # linear algebra\n",
    "import pandas as pd # data processing, CSV file I/O (e.g. pd.read_csv)\n",
    "\n",
    "# Input data files are available in the read-only \"../input/\" directory\n",
    "# For example, running this (by clicking run or pressing Shift+Enter) will list all files under the input directory\n",
    "\n",
    "import os\n",
    "for dirname, _, filenames in os.walk('/kaggle/input'):\n",
    "    for filename in filenames:\n",
    "        print(os.path.join(dirname, filename))\n",
    "\n",
    "# You can write up to 20GB to the current directory (/kaggle/working/) that gets preserved as output when you create a version using \"Save & Run All\" \n",
    "# You can also write temporary files to /kaggle/temp/, but they won't be saved outside of the current session"
   ]
  },
  {
   "cell_type": "code",
   "execution_count": 2,
   "id": "d26e9664",
   "metadata": {
    "execution": {
     "iopub.execute_input": "2023-05-18T19:39:31.342997Z",
     "iopub.status.busy": "2023-05-18T19:39:31.341896Z",
     "iopub.status.idle": "2023-05-18T19:39:33.516512Z",
     "shell.execute_reply": "2023-05-18T19:39:33.515530Z"
    },
    "papermill": {
     "duration": 2.187244,
     "end_time": "2023-05-18T19:39:33.520009",
     "exception": false,
     "start_time": "2023-05-18T19:39:31.332765",
     "status": "completed"
    },
    "tags": []
   },
   "outputs": [
    {
     "name": "stderr",
     "output_type": "stream",
     "text": [
      "/opt/conda/lib/python3.10/site-packages/scipy/__init__.py:146: UserWarning: A NumPy version >=1.16.5 and <1.23.0 is required for this version of SciPy (detected version 1.23.5\n",
      "  warnings.warn(f\"A NumPy version >={np_minversion} and <{np_maxversion}\"\n"
     ]
    }
   ],
   "source": [
    "import seaborn as sns\n",
    "import matplotlib.pyplot as plt\n",
    "import plotly.express as px\n",
    "sns.set()"
   ]
  },
  {
   "cell_type": "code",
   "execution_count": 3,
   "id": "56a79bb7",
   "metadata": {
    "execution": {
     "iopub.execute_input": "2023-05-18T19:39:33.536530Z",
     "iopub.status.busy": "2023-05-18T19:39:33.536063Z",
     "iopub.status.idle": "2023-05-18T19:39:34.115400Z",
     "shell.execute_reply": "2023-05-18T19:39:34.113706Z"
    },
    "papermill": {
     "duration": 0.590575,
     "end_time": "2023-05-18T19:39:34.117873",
     "exception": false,
     "start_time": "2023-05-18T19:39:33.527298",
     "status": "completed"
    },
    "tags": []
   },
   "outputs": [
    {
     "data": {
      "text/html": [
       "<div>\n",
       "<style scoped>\n",
       "    .dataframe tbody tr th:only-of-type {\n",
       "        vertical-align: middle;\n",
       "    }\n",
       "\n",
       "    .dataframe tbody tr th {\n",
       "        vertical-align: top;\n",
       "    }\n",
       "\n",
       "    .dataframe thead th {\n",
       "        text-align: right;\n",
       "    }\n",
       "</style>\n",
       "<table border=\"1\" class=\"dataframe\">\n",
       "  <thead>\n",
       "    <tr style=\"text-align: right;\">\n",
       "      <th></th>\n",
       "      <th>Unnamed: 0</th>\n",
       "      <th>user id</th>\n",
       "      <th>test group</th>\n",
       "      <th>converted</th>\n",
       "      <th>total ads</th>\n",
       "      <th>most ads day</th>\n",
       "      <th>most ads hour</th>\n",
       "    </tr>\n",
       "  </thead>\n",
       "  <tbody>\n",
       "    <tr>\n",
       "      <th>0</th>\n",
       "      <td>0</td>\n",
       "      <td>1069124</td>\n",
       "      <td>ad</td>\n",
       "      <td>False</td>\n",
       "      <td>130</td>\n",
       "      <td>Monday</td>\n",
       "      <td>20</td>\n",
       "    </tr>\n",
       "    <tr>\n",
       "      <th>1</th>\n",
       "      <td>1</td>\n",
       "      <td>1119715</td>\n",
       "      <td>ad</td>\n",
       "      <td>False</td>\n",
       "      <td>93</td>\n",
       "      <td>Tuesday</td>\n",
       "      <td>22</td>\n",
       "    </tr>\n",
       "    <tr>\n",
       "      <th>2</th>\n",
       "      <td>2</td>\n",
       "      <td>1144181</td>\n",
       "      <td>ad</td>\n",
       "      <td>False</td>\n",
       "      <td>21</td>\n",
       "      <td>Tuesday</td>\n",
       "      <td>18</td>\n",
       "    </tr>\n",
       "    <tr>\n",
       "      <th>3</th>\n",
       "      <td>3</td>\n",
       "      <td>1435133</td>\n",
       "      <td>ad</td>\n",
       "      <td>False</td>\n",
       "      <td>355</td>\n",
       "      <td>Tuesday</td>\n",
       "      <td>10</td>\n",
       "    </tr>\n",
       "    <tr>\n",
       "      <th>4</th>\n",
       "      <td>4</td>\n",
       "      <td>1015700</td>\n",
       "      <td>ad</td>\n",
       "      <td>False</td>\n",
       "      <td>276</td>\n",
       "      <td>Friday</td>\n",
       "      <td>14</td>\n",
       "    </tr>\n",
       "  </tbody>\n",
       "</table>\n",
       "</div>"
      ],
      "text/plain": [
       "   Unnamed: 0  user id test group  converted  total ads most ads day  \\\n",
       "0           0  1069124         ad      False        130       Monday   \n",
       "1           1  1119715         ad      False         93      Tuesday   \n",
       "2           2  1144181         ad      False         21      Tuesday   \n",
       "3           3  1435133         ad      False        355      Tuesday   \n",
       "4           4  1015700         ad      False        276       Friday   \n",
       "\n",
       "   most ads hour  \n",
       "0             20  \n",
       "1             22  \n",
       "2             18  \n",
       "3             10  \n",
       "4             14  "
      ]
     },
     "execution_count": 3,
     "metadata": {},
     "output_type": "execute_result"
    }
   ],
   "source": [
    "df = pd.read_csv('/kaggle/input/marketing-ab-testing/marketing_AB.csv')\n",
    "df.head()"
   ]
  },
  {
   "cell_type": "code",
   "execution_count": 4,
   "id": "0cb2a934",
   "metadata": {
    "execution": {
     "iopub.execute_input": "2023-05-18T19:39:34.133450Z",
     "iopub.status.busy": "2023-05-18T19:39:34.132988Z",
     "iopub.status.idle": "2023-05-18T19:39:34.341753Z",
     "shell.execute_reply": "2023-05-18T19:39:34.340659Z"
    },
    "papermill": {
     "duration": 0.219762,
     "end_time": "2023-05-18T19:39:34.344544",
     "exception": false,
     "start_time": "2023-05-18T19:39:34.124782",
     "status": "completed"
    },
    "tags": []
   },
   "outputs": [
    {
     "data": {
      "text/html": [
       "<div>\n",
       "<style scoped>\n",
       "    .dataframe tbody tr th:only-of-type {\n",
       "        vertical-align: middle;\n",
       "    }\n",
       "\n",
       "    .dataframe tbody tr th {\n",
       "        vertical-align: top;\n",
       "    }\n",
       "\n",
       "    .dataframe thead th {\n",
       "        text-align: right;\n",
       "    }\n",
       "</style>\n",
       "<table border=\"1\" class=\"dataframe\">\n",
       "  <thead>\n",
       "    <tr style=\"text-align: right;\">\n",
       "      <th></th>\n",
       "      <th>user id</th>\n",
       "      <th>test group</th>\n",
       "      <th>converted</th>\n",
       "      <th>total ads</th>\n",
       "      <th>most ads day</th>\n",
       "      <th>most ads hour</th>\n",
       "    </tr>\n",
       "  </thead>\n",
       "  <tbody>\n",
       "    <tr>\n",
       "      <th>count</th>\n",
       "      <td>5.881010e+05</td>\n",
       "      <td>588101</td>\n",
       "      <td>588101</td>\n",
       "      <td>588101.000000</td>\n",
       "      <td>588101</td>\n",
       "      <td>588101.000000</td>\n",
       "    </tr>\n",
       "    <tr>\n",
       "      <th>unique</th>\n",
       "      <td>NaN</td>\n",
       "      <td>2</td>\n",
       "      <td>2</td>\n",
       "      <td>NaN</td>\n",
       "      <td>7</td>\n",
       "      <td>NaN</td>\n",
       "    </tr>\n",
       "    <tr>\n",
       "      <th>top</th>\n",
       "      <td>NaN</td>\n",
       "      <td>ad</td>\n",
       "      <td>False</td>\n",
       "      <td>NaN</td>\n",
       "      <td>Friday</td>\n",
       "      <td>NaN</td>\n",
       "    </tr>\n",
       "    <tr>\n",
       "      <th>freq</th>\n",
       "      <td>NaN</td>\n",
       "      <td>564577</td>\n",
       "      <td>573258</td>\n",
       "      <td>NaN</td>\n",
       "      <td>92608</td>\n",
       "      <td>NaN</td>\n",
       "    </tr>\n",
       "    <tr>\n",
       "      <th>mean</th>\n",
       "      <td>1.310692e+06</td>\n",
       "      <td>NaN</td>\n",
       "      <td>NaN</td>\n",
       "      <td>24.820876</td>\n",
       "      <td>NaN</td>\n",
       "      <td>14.469061</td>\n",
       "    </tr>\n",
       "    <tr>\n",
       "      <th>std</th>\n",
       "      <td>2.022260e+05</td>\n",
       "      <td>NaN</td>\n",
       "      <td>NaN</td>\n",
       "      <td>43.715181</td>\n",
       "      <td>NaN</td>\n",
       "      <td>4.834634</td>\n",
       "    </tr>\n",
       "    <tr>\n",
       "      <th>min</th>\n",
       "      <td>9.000000e+05</td>\n",
       "      <td>NaN</td>\n",
       "      <td>NaN</td>\n",
       "      <td>1.000000</td>\n",
       "      <td>NaN</td>\n",
       "      <td>0.000000</td>\n",
       "    </tr>\n",
       "    <tr>\n",
       "      <th>25%</th>\n",
       "      <td>1.143190e+06</td>\n",
       "      <td>NaN</td>\n",
       "      <td>NaN</td>\n",
       "      <td>4.000000</td>\n",
       "      <td>NaN</td>\n",
       "      <td>11.000000</td>\n",
       "    </tr>\n",
       "    <tr>\n",
       "      <th>50%</th>\n",
       "      <td>1.313725e+06</td>\n",
       "      <td>NaN</td>\n",
       "      <td>NaN</td>\n",
       "      <td>13.000000</td>\n",
       "      <td>NaN</td>\n",
       "      <td>14.000000</td>\n",
       "    </tr>\n",
       "    <tr>\n",
       "      <th>75%</th>\n",
       "      <td>1.484088e+06</td>\n",
       "      <td>NaN</td>\n",
       "      <td>NaN</td>\n",
       "      <td>27.000000</td>\n",
       "      <td>NaN</td>\n",
       "      <td>18.000000</td>\n",
       "    </tr>\n",
       "    <tr>\n",
       "      <th>max</th>\n",
       "      <td>1.654483e+06</td>\n",
       "      <td>NaN</td>\n",
       "      <td>NaN</td>\n",
       "      <td>2065.000000</td>\n",
       "      <td>NaN</td>\n",
       "      <td>23.000000</td>\n",
       "    </tr>\n",
       "  </tbody>\n",
       "</table>\n",
       "</div>"
      ],
      "text/plain": [
       "             user id test group converted      total ads most ads day  \\\n",
       "count   5.881010e+05     588101    588101  588101.000000       588101   \n",
       "unique           NaN          2         2            NaN            7   \n",
       "top              NaN         ad     False            NaN       Friday   \n",
       "freq             NaN     564577    573258            NaN        92608   \n",
       "mean    1.310692e+06        NaN       NaN      24.820876          NaN   \n",
       "std     2.022260e+05        NaN       NaN      43.715181          NaN   \n",
       "min     9.000000e+05        NaN       NaN       1.000000          NaN   \n",
       "25%     1.143190e+06        NaN       NaN       4.000000          NaN   \n",
       "50%     1.313725e+06        NaN       NaN      13.000000          NaN   \n",
       "75%     1.484088e+06        NaN       NaN      27.000000          NaN   \n",
       "max     1.654483e+06        NaN       NaN    2065.000000          NaN   \n",
       "\n",
       "        most ads hour  \n",
       "count   588101.000000  \n",
       "unique            NaN  \n",
       "top               NaN  \n",
       "freq              NaN  \n",
       "mean        14.469061  \n",
       "std          4.834634  \n",
       "min          0.000000  \n",
       "25%         11.000000  \n",
       "50%         14.000000  \n",
       "75%         18.000000  \n",
       "max         23.000000  "
      ]
     },
     "execution_count": 4,
     "metadata": {},
     "output_type": "execute_result"
    }
   ],
   "source": [
    "df.drop('Unnamed: 0', axis=1, inplace=True)\n",
    "df.describe(include='all')"
   ]
  },
  {
   "cell_type": "code",
   "execution_count": 5,
   "id": "f669cf53",
   "metadata": {
    "execution": {
     "iopub.execute_input": "2023-05-18T19:39:34.361708Z",
     "iopub.status.busy": "2023-05-18T19:39:34.361309Z",
     "iopub.status.idle": "2023-05-18T19:39:34.367473Z",
     "shell.execute_reply": "2023-05-18T19:39:34.366472Z"
    },
    "papermill": {
     "duration": 0.017409,
     "end_time": "2023-05-18T19:39:34.369393",
     "exception": false,
     "start_time": "2023-05-18T19:39:34.351984",
     "status": "completed"
    },
    "tags": []
   },
   "outputs": [],
   "source": [
    "# clean the column names\n",
    "df.columns = np.array(pd.Series(df.columns).apply(lambda x: x.replace(' ', '_')))"
   ]
  },
  {
   "cell_type": "code",
   "execution_count": 6,
   "id": "b0765688",
   "metadata": {
    "execution": {
     "iopub.execute_input": "2023-05-18T19:39:34.387344Z",
     "iopub.status.busy": "2023-05-18T19:39:34.386289Z",
     "iopub.status.idle": "2023-05-18T19:39:34.556896Z",
     "shell.execute_reply": "2023-05-18T19:39:34.555164Z"
    },
    "papermill": {
     "duration": 0.183032,
     "end_time": "2023-05-18T19:39:34.559817",
     "exception": false,
     "start_time": "2023-05-18T19:39:34.376785",
     "status": "completed"
    },
    "tags": []
   },
   "outputs": [
    {
     "data": {
      "text/plain": [
       "user_id          0\n",
       "test_group       0\n",
       "converted        0\n",
       "total_ads        0\n",
       "most_ads_day     0\n",
       "most_ads_hour    0\n",
       "dtype: int64"
      ]
     },
     "execution_count": 6,
     "metadata": {},
     "output_type": "execute_result"
    }
   ],
   "source": [
    "df.isnull().sum()"
   ]
  },
  {
   "cell_type": "markdown",
   "id": "c6a6542a",
   "metadata": {
    "papermill": {
     "duration": 0.007552,
     "end_time": "2023-05-18T19:39:34.575517",
     "exception": false,
     "start_time": "2023-05-18T19:39:34.567965",
     "status": "completed"
    },
    "tags": []
   },
   "source": [
    "**split the data into ad and psa**"
   ]
  },
  {
   "cell_type": "code",
   "execution_count": 7,
   "id": "282c064c",
   "metadata": {
    "execution": {
     "iopub.execute_input": "2023-05-18T19:39:34.596536Z",
     "iopub.status.busy": "2023-05-18T19:39:34.596102Z",
     "iopub.status.idle": "2023-05-18T19:39:34.749074Z",
     "shell.execute_reply": "2023-05-18T19:39:34.747578Z"
    },
    "papermill": {
     "duration": 0.167198,
     "end_time": "2023-05-18T19:39:34.751874",
     "exception": false,
     "start_time": "2023-05-18T19:39:34.584676",
     "status": "completed"
    },
    "tags": []
   },
   "outputs": [],
   "source": [
    "ad = df[df.test_group == 'ad'].reset_index(drop=True)\n",
    "psa = df[df.test_group == 'psa'].reset_index(drop=True)"
   ]
  },
  {
   "cell_type": "code",
   "execution_count": 8,
   "id": "20f3c827",
   "metadata": {
    "execution": {
     "iopub.execute_input": "2023-05-18T19:39:34.770416Z",
     "iopub.status.busy": "2023-05-18T19:39:34.770014Z",
     "iopub.status.idle": "2023-05-18T19:39:34.777939Z",
     "shell.execute_reply": "2023-05-18T19:39:34.776585Z"
    },
    "papermill": {
     "duration": 0.020582,
     "end_time": "2023-05-18T19:39:34.780761",
     "exception": false,
     "start_time": "2023-05-18T19:39:34.760179",
     "status": "completed"
    },
    "tags": []
   },
   "outputs": [
    {
     "data": {
      "text/plain": [
       "((564577, 6), (23524, 6))"
      ]
     },
     "execution_count": 8,
     "metadata": {},
     "output_type": "execute_result"
    }
   ],
   "source": [
    "ad.shape, psa.shape"
   ]
  },
  {
   "cell_type": "markdown",
   "id": "5fc1b39a",
   "metadata": {
    "papermill": {
     "duration": 0.007214,
     "end_time": "2023-05-18T19:39:34.795732",
     "exception": false,
     "start_time": "2023-05-18T19:39:34.788518",
     "status": "completed"
    },
    "tags": []
   },
   "source": [
    "#### the data is skewed towards ads. let's see if the difference in conversions would be statistically significant"
   ]
  },
  {
   "cell_type": "markdown",
   "id": "c686fe4e",
   "metadata": {
    "papermill": {
     "duration": 0.007094,
     "end_time": "2023-05-18T19:39:34.810286",
     "exception": false,
     "start_time": "2023-05-18T19:39:34.803192",
     "status": "completed"
    },
    "tags": []
   },
   "source": [
    "this below code was commented out. it was a ***sanity check***;\n",
    "I selected the same number of rows as the psa group from the ad group. and checked their conversion rates. and the significance of their difference. there results were the same, so the data is good."
   ]
  },
  {
   "cell_type": "code",
   "execution_count": 9,
   "id": "9d311958",
   "metadata": {
    "execution": {
     "iopub.execute_input": "2023-05-18T19:39:34.830991Z",
     "iopub.status.busy": "2023-05-18T19:39:34.830583Z",
     "iopub.status.idle": "2023-05-18T19:39:34.837461Z",
     "shell.execute_reply": "2023-05-18T19:39:34.836182Z"
    },
    "papermill": {
     "duration": 0.018422,
     "end_time": "2023-05-18T19:39:34.839882",
     "exception": false,
     "start_time": "2023-05-18T19:39:34.821460",
     "status": "completed"
    },
    "tags": []
   },
   "outputs": [],
   "source": [
    "# shuffle the ad data rows\n",
    "##ad = ad.sample(frac=1)\n",
    "# select the number of rows you need\n",
    "##ad = ad.iloc[:23524, :]\n",
    "##ad.shape"
   ]
  },
  {
   "cell_type": "code",
   "execution_count": 10,
   "id": "f015ba94",
   "metadata": {
    "execution": {
     "iopub.execute_input": "2023-05-18T19:39:34.858398Z",
     "iopub.status.busy": "2023-05-18T19:39:34.857968Z",
     "iopub.status.idle": "2023-05-18T19:39:34.875353Z",
     "shell.execute_reply": "2023-05-18T19:39:34.873986Z"
    },
    "papermill": {
     "duration": 0.029678,
     "end_time": "2023-05-18T19:39:34.877572",
     "exception": false,
     "start_time": "2023-05-18T19:39:34.847894",
     "status": "completed"
    },
    "tags": []
   },
   "outputs": [
    {
     "data": {
      "text/plain": [
       "converted\n",
       "False    550154\n",
       "True      14423\n",
       "Name: user_id, dtype: int64"
      ]
     },
     "execution_count": 10,
     "metadata": {},
     "output_type": "execute_result"
    }
   ],
   "source": [
    "converts_ad = ad.groupby('converted')['user_id'].count()\n",
    "converts_ad"
   ]
  },
  {
   "cell_type": "code",
   "execution_count": 11,
   "id": "7e15c01a",
   "metadata": {
    "execution": {
     "iopub.execute_input": "2023-05-18T19:39:34.895005Z",
     "iopub.status.busy": "2023-05-18T19:39:34.894602Z",
     "iopub.status.idle": "2023-05-18T19:39:34.904832Z",
     "shell.execute_reply": "2023-05-18T19:39:34.903940Z"
    },
    "papermill": {
     "duration": 0.021941,
     "end_time": "2023-05-18T19:39:34.907423",
     "exception": false,
     "start_time": "2023-05-18T19:39:34.885482",
     "status": "completed"
    },
    "tags": []
   },
   "outputs": [
    {
     "data": {
      "text/plain": [
       "converted\n",
       "False    23104\n",
       "True       420\n",
       "Name: user_id, dtype: int64"
      ]
     },
     "execution_count": 11,
     "metadata": {},
     "output_type": "execute_result"
    }
   ],
   "source": [
    "converts_psa = psa.groupby('converted')['user_id'].count()\n",
    "converts_psa"
   ]
  },
  {
   "cell_type": "markdown",
   "id": "49635839",
   "metadata": {
    "papermill": {
     "duration": 0.00876,
     "end_time": "2023-05-18T19:39:34.924603",
     "exception": false,
     "start_time": "2023-05-18T19:39:34.915843",
     "status": "completed"
    },
    "tags": []
   },
   "source": [
    "#### we can see that ad is doing better than psa. but let's check this difference for statistical significance\n",
    "- H0: no significant difference\n",
    "- H1: statistically significant difference."
   ]
  },
  {
   "cell_type": "code",
   "execution_count": 12,
   "id": "f864784c",
   "metadata": {
    "execution": {
     "iopub.execute_input": "2023-05-18T19:39:34.946593Z",
     "iopub.status.busy": "2023-05-18T19:39:34.945916Z",
     "iopub.status.idle": "2023-05-18T19:39:34.950678Z",
     "shell.execute_reply": "2023-05-18T19:39:34.949913Z"
    },
    "papermill": {
     "duration": 0.01942,
     "end_time": "2023-05-18T19:39:34.953325",
     "exception": false,
     "start_time": "2023-05-18T19:39:34.933905",
     "status": "completed"
    },
    "tags": []
   },
   "outputs": [],
   "source": [
    "from scipy.stats import shapiro, levene, mannwhitneyu, ttest_ind"
   ]
  },
  {
   "cell_type": "markdown",
   "id": "6d8f4105",
   "metadata": {
    "papermill": {
     "duration": 0.008542,
     "end_time": "2023-05-18T19:39:34.971729",
     "exception": false,
     "start_time": "2023-05-18T19:39:34.963187",
     "status": "completed"
    },
    "tags": []
   },
   "source": [
    "#### check normality and homogeneity of variance"
   ]
  },
  {
   "cell_type": "code",
   "execution_count": 13,
   "id": "c1fc2eb1",
   "metadata": {
    "execution": {
     "iopub.execute_input": "2023-05-18T19:39:34.991756Z",
     "iopub.status.busy": "2023-05-18T19:39:34.990674Z",
     "iopub.status.idle": "2023-05-18T19:39:35.018812Z",
     "shell.execute_reply": "2023-05-18T19:39:35.017668Z"
    },
    "papermill": {
     "duration": 0.040365,
     "end_time": "2023-05-18T19:39:35.021438",
     "exception": false,
     "start_time": "2023-05-18T19:39:34.981073",
     "status": "completed"
    },
    "tags": []
   },
   "outputs": [
    {
     "name": "stderr",
     "output_type": "stream",
     "text": [
      "/opt/conda/lib/python3.10/site-packages/scipy/stats/morestats.py:1760: UserWarning: p-value may not be accurate for N > 5000.\n",
      "  warnings.warn(\"p-value may not be accurate for N > 5000.\")\n"
     ]
    },
    {
     "data": {
      "text/plain": [
       "(0.0, 0.0)"
      ]
     },
     "execution_count": 13,
     "metadata": {},
     "output_type": "execute_result"
    }
   ],
   "source": [
    "# normality check\n",
    "_, pvalue_ad = shapiro(ad.converted)\n",
    "_, pvalue_psa = shapiro(psa.converted)\n",
    "pvalue_psa, pvalue_ad"
   ]
  },
  {
   "cell_type": "code",
   "execution_count": 14,
   "id": "2683981b",
   "metadata": {
    "execution": {
     "iopub.execute_input": "2023-05-18T19:39:35.042695Z",
     "iopub.status.busy": "2023-05-18T19:39:35.041859Z",
     "iopub.status.idle": "2023-05-18T19:39:35.052857Z",
     "shell.execute_reply": "2023-05-18T19:39:35.052137Z"
    },
    "papermill": {
     "duration": 0.023575,
     "end_time": "2023-05-18T19:39:35.054725",
     "exception": false,
     "start_time": "2023-05-18T19:39:35.031150",
     "status": "completed"
    },
    "tags": []
   },
   "outputs": [
    {
     "data": {
      "text/plain": [
       "LeveneResult(statistic=54.322884225785735, pvalue=1.703305262368155e-13)"
      ]
     },
     "execution_count": 14,
     "metadata": {},
     "output_type": "execute_result"
    }
   ],
   "source": [
    "# variance homogeneity check\n",
    "levene(psa.converted, ad.converted)"
   ]
  },
  {
   "cell_type": "markdown",
   "id": "80e6a899",
   "metadata": {
    "papermill": {
     "duration": 0.008129,
     "end_time": "2023-05-18T19:39:35.072525",
     "exception": false,
     "start_time": "2023-05-18T19:39:35.064396",
     "status": "completed"
    },
    "tags": []
   },
   "source": [
    "##### p_values are less than 0.05 so the normality and variance assumptions are met."
   ]
  },
  {
   "cell_type": "code",
   "execution_count": 15,
   "id": "85adff97",
   "metadata": {
    "execution": {
     "iopub.execute_input": "2023-05-18T19:39:35.091436Z",
     "iopub.status.busy": "2023-05-18T19:39:35.090941Z",
     "iopub.status.idle": "2023-05-18T19:39:35.101756Z",
     "shell.execute_reply": "2023-05-18T19:39:35.100947Z"
    },
    "papermill": {
     "duration": 0.023103,
     "end_time": "2023-05-18T19:39:35.104162",
     "exception": false,
     "start_time": "2023-05-18T19:39:35.081059",
     "status": "completed"
    },
    "tags": []
   },
   "outputs": [
    {
     "data": {
      "text/plain": [
       "Ttest_indResult(statistic=-7.37040597428566, pvalue=1.7033052627831264e-13)"
      ]
     },
     "execution_count": 15,
     "metadata": {},
     "output_type": "execute_result"
    }
   ],
   "source": [
    "# test for significance\n",
    "ttest_ind(psa.converted, ad.converted)"
   ]
  },
  {
   "cell_type": "markdown",
   "id": "ff4459ae",
   "metadata": {
    "papermill": {
     "duration": 0.009479,
     "end_time": "2023-05-18T19:39:35.121992",
     "exception": false,
     "start_time": "2023-05-18T19:39:35.112513",
     "status": "completed"
    },
    "tags": []
   },
   "source": [
    "#### the results are statistically significant!\n",
    "- pvalue strongly rejects the null hypothesis\n",
    "- difference in conversions are due to the ads"
   ]
  },
  {
   "cell_type": "code",
   "execution_count": 16,
   "id": "2e11326d",
   "metadata": {
    "execution": {
     "iopub.execute_input": "2023-05-18T19:39:35.140495Z",
     "iopub.status.busy": "2023-05-18T19:39:35.139873Z",
     "iopub.status.idle": "2023-05-18T19:39:35.146836Z",
     "shell.execute_reply": "2023-05-18T19:39:35.145342Z"
    },
    "papermill": {
     "duration": 0.019475,
     "end_time": "2023-05-18T19:39:35.149688",
     "exception": false,
     "start_time": "2023-05-18T19:39:35.130213",
     "status": "completed"
    },
    "tags": []
   },
   "outputs": [
    {
     "data": {
      "text/plain": [
       "(0.018178670360110803, 0.026216295800812136)"
      ]
     },
     "execution_count": 16,
     "metadata": {},
     "output_type": "execute_result"
    }
   ],
   "source": [
    "# conversion rates\n",
    "(converts_psa[1]/converts_psa[0]), (converts_ad[1]/converts_ad[0])"
   ]
  },
  {
   "cell_type": "markdown",
   "id": "2f835c7d",
   "metadata": {
    "papermill": {
     "duration": 0.00943,
     "end_time": "2023-05-18T19:39:35.167948",
     "exception": false,
     "start_time": "2023-05-18T19:39:35.158518",
     "status": "completed"
    },
    "tags": []
   },
   "source": [
    "#### psa has a 1.8% conversion rate, while an ad has a 2.6% conversion rate. there is only a 0.8% difference between them, but the ads also reach a larger audience so it might be worth it."
   ]
  },
  {
   "cell_type": "markdown",
   "id": "132a8da9",
   "metadata": {
    "papermill": {
     "duration": 0.008052,
     "end_time": "2023-05-18T19:39:35.184537",
     "exception": false,
     "start_time": "2023-05-18T19:39:35.176485",
     "status": "completed"
    },
    "tags": []
   },
   "source": [
    "## lets' check the most profitable days for ads"
   ]
  },
  {
   "cell_type": "code",
   "execution_count": 17,
   "id": "f85419fe",
   "metadata": {
    "execution": {
     "iopub.execute_input": "2023-05-18T19:39:35.204258Z",
     "iopub.status.busy": "2023-05-18T19:39:35.203817Z",
     "iopub.status.idle": "2023-05-18T19:39:37.241555Z",
     "shell.execute_reply": "2023-05-18T19:39:37.240340Z"
    },
    "papermill": {
     "duration": 2.050638,
     "end_time": "2023-05-18T19:39:37.243573",
     "exception": false,
     "start_time": "2023-05-18T19:39:35.192935",
     "status": "completed"
    },
    "tags": []
   },
   "outputs": [
    {
     "data": {
      "text/html": [
       "        <script type=\"text/javascript\">\n",
       "        window.PlotlyConfig = {MathJaxConfig: 'local'};\n",
       "        if (window.MathJax && window.MathJax.Hub && window.MathJax.Hub.Config) {window.MathJax.Hub.Config({SVG: {font: \"STIX-Web\"}});}\n",
       "        if (typeof require !== 'undefined') {\n",
       "        require.undef(\"plotly\");\n",
       "        requirejs.config({\n",
       "            paths: {\n",
       "                'plotly': ['https://cdn.plot.ly/plotly-2.20.0.min']\n",
       "            }\n",
       "        });\n",
       "        require(['plotly'], function(Plotly) {\n",
       "            window._Plotly = Plotly;\n",
       "        });\n",
       "        }\n",
       "        </script>\n",
       "        "
      ]
     },
     "metadata": {},
     "output_type": "display_data"
    },
    {
     "data": {
      "text/html": [
       "<div>                            <div id=\"478c9d74-7c8b-4b94-ac67-5bb7e4d71213\" class=\"plotly-graph-div\" style=\"height:525px; width:100%;\"></div>            <script type=\"text/javascript\">                require([\"plotly\"], function(Plotly) {                    window.PLOTLYENV=window.PLOTLYENV || {};                                    if (document.getElementById(\"478c9d74-7c8b-4b94-ac67-5bb7e4d71213\")) {                    Plotly.newPlot(                        \"478c9d74-7c8b-4b94-ac67-5bb7e4d71213\",                        [{\"alignmentgroup\":\"True\",\"hovertemplate\":\"most_ads_day=%{x}<br>value=%{y}<extra></extra>\",\"legendgroup\":\"Friday\",\"marker\":{\"color\":\"#636efa\",\"pattern\":{\"shape\":\"\"}},\"name\":\"Friday\",\"offsetgroup\":\"Friday\",\"orientation\":\"v\",\"showlegend\":true,\"textposition\":\"auto\",\"x\":[\"Friday\"],\"xaxis\":\"x\",\"y\":[0.0229812233613639],\"yaxis\":\"y\",\"type\":\"bar\"},{\"alignmentgroup\":\"True\",\"hovertemplate\":\"most_ads_day=%{x}<br>value=%{y}<extra></extra>\",\"legendgroup\":\"Monday\",\"marker\":{\"color\":\"#EF553B\",\"pattern\":{\"shape\":\"\"}},\"name\":\"Monday\",\"offsetgroup\":\"Monday\",\"orientation\":\"v\",\"showlegend\":true,\"textposition\":\"auto\",\"x\":[\"Monday\"],\"xaxis\":\"x\",\"y\":[0.03438416694515614],\"yaxis\":\"y\",\"type\":\"bar\"},{\"alignmentgroup\":\"True\",\"hovertemplate\":\"most_ads_day=%{x}<br>value=%{y}<extra></extra>\",\"legendgroup\":\"Saturday\",\"marker\":{\"color\":\"#00cc96\",\"pattern\":{\"shape\":\"\"}},\"name\":\"Saturday\",\"offsetgroup\":\"Saturday\",\"orientation\":\"v\",\"showlegend\":true,\"textposition\":\"auto\",\"x\":[\"Saturday\"],\"xaxis\":\"x\",\"y\":[0.02177041868184588],\"yaxis\":\"y\",\"type\":\"bar\"},{\"alignmentgroup\":\"True\",\"hovertemplate\":\"most_ads_day=%{x}<br>value=%{y}<extra></extra>\",\"legendgroup\":\"Sunday\",\"marker\":{\"color\":\"#ab63fa\",\"pattern\":{\"shape\":\"\"}},\"name\":\"Sunday\",\"offsetgroup\":\"Sunday\",\"orientation\":\"v\",\"showlegend\":true,\"textposition\":\"auto\",\"x\":[\"Sunday\"],\"xaxis\":\"x\",\"y\":[0.02524126766701949],\"yaxis\":\"y\",\"type\":\"bar\"},{\"alignmentgroup\":\"True\",\"hovertemplate\":\"most_ads_day=%{x}<br>value=%{y}<extra></extra>\",\"legendgroup\":\"Thursday\",\"marker\":{\"color\":\"#FFA15A\",\"pattern\":{\"shape\":\"\"}},\"name\":\"Thursday\",\"offsetgroup\":\"Thursday\",\"orientation\":\"v\",\"showlegend\":true,\"textposition\":\"auto\",\"x\":[\"Thursday\"],\"xaxis\":\"x\",\"y\":[0.022115658040999922],\"yaxis\":\"y\",\"type\":\"bar\"},{\"alignmentgroup\":\"True\",\"hovertemplate\":\"most_ads_day=%{x}<br>value=%{y}<extra></extra>\",\"legendgroup\":\"Tuesday\",\"marker\":{\"color\":\"#19d3f3\",\"pattern\":{\"shape\":\"\"}},\"name\":\"Tuesday\",\"offsetgroup\":\"Tuesday\",\"orientation\":\"v\",\"showlegend\":true,\"textposition\":\"auto\",\"x\":[\"Tuesday\"],\"xaxis\":\"x\",\"y\":[0.031396088628253715],\"yaxis\":\"y\",\"type\":\"bar\"},{\"alignmentgroup\":\"True\",\"hovertemplate\":\"most_ads_day=%{x}<br>value=%{y}<extra></extra>\",\"legendgroup\":\"Wednesday\",\"marker\":{\"color\":\"#FF6692\",\"pattern\":{\"shape\":\"\"}},\"name\":\"Wednesday\",\"offsetgroup\":\"Wednesday\",\"orientation\":\"v\",\"showlegend\":true,\"textposition\":\"auto\",\"x\":[\"Wednesday\"],\"xaxis\":\"x\",\"y\":[0.026015505930687164],\"yaxis\":\"y\",\"type\":\"bar\"}],                        {\"template\":{\"data\":{\"histogram2dcontour\":[{\"type\":\"histogram2dcontour\",\"colorbar\":{\"outlinewidth\":0,\"ticks\":\"\"},\"colorscale\":[[0.0,\"#0d0887\"],[0.1111111111111111,\"#46039f\"],[0.2222222222222222,\"#7201a8\"],[0.3333333333333333,\"#9c179e\"],[0.4444444444444444,\"#bd3786\"],[0.5555555555555556,\"#d8576b\"],[0.6666666666666666,\"#ed7953\"],[0.7777777777777778,\"#fb9f3a\"],[0.8888888888888888,\"#fdca26\"],[1.0,\"#f0f921\"]]}],\"choropleth\":[{\"type\":\"choropleth\",\"colorbar\":{\"outlinewidth\":0,\"ticks\":\"\"}}],\"histogram2d\":[{\"type\":\"histogram2d\",\"colorbar\":{\"outlinewidth\":0,\"ticks\":\"\"},\"colorscale\":[[0.0,\"#0d0887\"],[0.1111111111111111,\"#46039f\"],[0.2222222222222222,\"#7201a8\"],[0.3333333333333333,\"#9c179e\"],[0.4444444444444444,\"#bd3786\"],[0.5555555555555556,\"#d8576b\"],[0.6666666666666666,\"#ed7953\"],[0.7777777777777778,\"#fb9f3a\"],[0.8888888888888888,\"#fdca26\"],[1.0,\"#f0f921\"]]}],\"heatmap\":[{\"type\":\"heatmap\",\"colorbar\":{\"outlinewidth\":0,\"ticks\":\"\"},\"colorscale\":[[0.0,\"#0d0887\"],[0.1111111111111111,\"#46039f\"],[0.2222222222222222,\"#7201a8\"],[0.3333333333333333,\"#9c179e\"],[0.4444444444444444,\"#bd3786\"],[0.5555555555555556,\"#d8576b\"],[0.6666666666666666,\"#ed7953\"],[0.7777777777777778,\"#fb9f3a\"],[0.8888888888888888,\"#fdca26\"],[1.0,\"#f0f921\"]]}],\"heatmapgl\":[{\"type\":\"heatmapgl\",\"colorbar\":{\"outlinewidth\":0,\"ticks\":\"\"},\"colorscale\":[[0.0,\"#0d0887\"],[0.1111111111111111,\"#46039f\"],[0.2222222222222222,\"#7201a8\"],[0.3333333333333333,\"#9c179e\"],[0.4444444444444444,\"#bd3786\"],[0.5555555555555556,\"#d8576b\"],[0.6666666666666666,\"#ed7953\"],[0.7777777777777778,\"#fb9f3a\"],[0.8888888888888888,\"#fdca26\"],[1.0,\"#f0f921\"]]}],\"contourcarpet\":[{\"type\":\"contourcarpet\",\"colorbar\":{\"outlinewidth\":0,\"ticks\":\"\"}}],\"contour\":[{\"type\":\"contour\",\"colorbar\":{\"outlinewidth\":0,\"ticks\":\"\"},\"colorscale\":[[0.0,\"#0d0887\"],[0.1111111111111111,\"#46039f\"],[0.2222222222222222,\"#7201a8\"],[0.3333333333333333,\"#9c179e\"],[0.4444444444444444,\"#bd3786\"],[0.5555555555555556,\"#d8576b\"],[0.6666666666666666,\"#ed7953\"],[0.7777777777777778,\"#fb9f3a\"],[0.8888888888888888,\"#fdca26\"],[1.0,\"#f0f921\"]]}],\"surface\":[{\"type\":\"surface\",\"colorbar\":{\"outlinewidth\":0,\"ticks\":\"\"},\"colorscale\":[[0.0,\"#0d0887\"],[0.1111111111111111,\"#46039f\"],[0.2222222222222222,\"#7201a8\"],[0.3333333333333333,\"#9c179e\"],[0.4444444444444444,\"#bd3786\"],[0.5555555555555556,\"#d8576b\"],[0.6666666666666666,\"#ed7953\"],[0.7777777777777778,\"#fb9f3a\"],[0.8888888888888888,\"#fdca26\"],[1.0,\"#f0f921\"]]}],\"mesh3d\":[{\"type\":\"mesh3d\",\"colorbar\":{\"outlinewidth\":0,\"ticks\":\"\"}}],\"scatter\":[{\"fillpattern\":{\"fillmode\":\"overlay\",\"size\":10,\"solidity\":0.2},\"type\":\"scatter\"}],\"parcoords\":[{\"type\":\"parcoords\",\"line\":{\"colorbar\":{\"outlinewidth\":0,\"ticks\":\"\"}}}],\"scatterpolargl\":[{\"type\":\"scatterpolargl\",\"marker\":{\"colorbar\":{\"outlinewidth\":0,\"ticks\":\"\"}}}],\"bar\":[{\"error_x\":{\"color\":\"#2a3f5f\"},\"error_y\":{\"color\":\"#2a3f5f\"},\"marker\":{\"line\":{\"color\":\"#E5ECF6\",\"width\":0.5},\"pattern\":{\"fillmode\":\"overlay\",\"size\":10,\"solidity\":0.2}},\"type\":\"bar\"}],\"scattergeo\":[{\"type\":\"scattergeo\",\"marker\":{\"colorbar\":{\"outlinewidth\":0,\"ticks\":\"\"}}}],\"scatterpolar\":[{\"type\":\"scatterpolar\",\"marker\":{\"colorbar\":{\"outlinewidth\":0,\"ticks\":\"\"}}}],\"histogram\":[{\"marker\":{\"pattern\":{\"fillmode\":\"overlay\",\"size\":10,\"solidity\":0.2}},\"type\":\"histogram\"}],\"scattergl\":[{\"type\":\"scattergl\",\"marker\":{\"colorbar\":{\"outlinewidth\":0,\"ticks\":\"\"}}}],\"scatter3d\":[{\"type\":\"scatter3d\",\"line\":{\"colorbar\":{\"outlinewidth\":0,\"ticks\":\"\"}},\"marker\":{\"colorbar\":{\"outlinewidth\":0,\"ticks\":\"\"}}}],\"scattermapbox\":[{\"type\":\"scattermapbox\",\"marker\":{\"colorbar\":{\"outlinewidth\":0,\"ticks\":\"\"}}}],\"scatterternary\":[{\"type\":\"scatterternary\",\"marker\":{\"colorbar\":{\"outlinewidth\":0,\"ticks\":\"\"}}}],\"scattercarpet\":[{\"type\":\"scattercarpet\",\"marker\":{\"colorbar\":{\"outlinewidth\":0,\"ticks\":\"\"}}}],\"carpet\":[{\"aaxis\":{\"endlinecolor\":\"#2a3f5f\",\"gridcolor\":\"white\",\"linecolor\":\"white\",\"minorgridcolor\":\"white\",\"startlinecolor\":\"#2a3f5f\"},\"baxis\":{\"endlinecolor\":\"#2a3f5f\",\"gridcolor\":\"white\",\"linecolor\":\"white\",\"minorgridcolor\":\"white\",\"startlinecolor\":\"#2a3f5f\"},\"type\":\"carpet\"}],\"table\":[{\"cells\":{\"fill\":{\"color\":\"#EBF0F8\"},\"line\":{\"color\":\"white\"}},\"header\":{\"fill\":{\"color\":\"#C8D4E3\"},\"line\":{\"color\":\"white\"}},\"type\":\"table\"}],\"barpolar\":[{\"marker\":{\"line\":{\"color\":\"#E5ECF6\",\"width\":0.5},\"pattern\":{\"fillmode\":\"overlay\",\"size\":10,\"solidity\":0.2}},\"type\":\"barpolar\"}],\"pie\":[{\"automargin\":true,\"type\":\"pie\"}]},\"layout\":{\"autotypenumbers\":\"strict\",\"colorway\":[\"#636efa\",\"#EF553B\",\"#00cc96\",\"#ab63fa\",\"#FFA15A\",\"#19d3f3\",\"#FF6692\",\"#B6E880\",\"#FF97FF\",\"#FECB52\"],\"font\":{\"color\":\"#2a3f5f\"},\"hovermode\":\"closest\",\"hoverlabel\":{\"align\":\"left\"},\"paper_bgcolor\":\"white\",\"plot_bgcolor\":\"#E5ECF6\",\"polar\":{\"bgcolor\":\"#E5ECF6\",\"angularaxis\":{\"gridcolor\":\"white\",\"linecolor\":\"white\",\"ticks\":\"\"},\"radialaxis\":{\"gridcolor\":\"white\",\"linecolor\":\"white\",\"ticks\":\"\"}},\"ternary\":{\"bgcolor\":\"#E5ECF6\",\"aaxis\":{\"gridcolor\":\"white\",\"linecolor\":\"white\",\"ticks\":\"\"},\"baxis\":{\"gridcolor\":\"white\",\"linecolor\":\"white\",\"ticks\":\"\"},\"caxis\":{\"gridcolor\":\"white\",\"linecolor\":\"white\",\"ticks\":\"\"}},\"coloraxis\":{\"colorbar\":{\"outlinewidth\":0,\"ticks\":\"\"}},\"colorscale\":{\"sequential\":[[0.0,\"#0d0887\"],[0.1111111111111111,\"#46039f\"],[0.2222222222222222,\"#7201a8\"],[0.3333333333333333,\"#9c179e\"],[0.4444444444444444,\"#bd3786\"],[0.5555555555555556,\"#d8576b\"],[0.6666666666666666,\"#ed7953\"],[0.7777777777777778,\"#fb9f3a\"],[0.8888888888888888,\"#fdca26\"],[1.0,\"#f0f921\"]],\"sequentialminus\":[[0.0,\"#0d0887\"],[0.1111111111111111,\"#46039f\"],[0.2222222222222222,\"#7201a8\"],[0.3333333333333333,\"#9c179e\"],[0.4444444444444444,\"#bd3786\"],[0.5555555555555556,\"#d8576b\"],[0.6666666666666666,\"#ed7953\"],[0.7777777777777778,\"#fb9f3a\"],[0.8888888888888888,\"#fdca26\"],[1.0,\"#f0f921\"]],\"diverging\":[[0,\"#8e0152\"],[0.1,\"#c51b7d\"],[0.2,\"#de77ae\"],[0.3,\"#f1b6da\"],[0.4,\"#fde0ef\"],[0.5,\"#f7f7f7\"],[0.6,\"#e6f5d0\"],[0.7,\"#b8e186\"],[0.8,\"#7fbc41\"],[0.9,\"#4d9221\"],[1,\"#276419\"]]},\"xaxis\":{\"gridcolor\":\"white\",\"linecolor\":\"white\",\"ticks\":\"\",\"title\":{\"standoff\":15},\"zerolinecolor\":\"white\",\"automargin\":true,\"zerolinewidth\":2},\"yaxis\":{\"gridcolor\":\"white\",\"linecolor\":\"white\",\"ticks\":\"\",\"title\":{\"standoff\":15},\"zerolinecolor\":\"white\",\"automargin\":true,\"zerolinewidth\":2},\"scene\":{\"xaxis\":{\"backgroundcolor\":\"#E5ECF6\",\"gridcolor\":\"white\",\"linecolor\":\"white\",\"showbackground\":true,\"ticks\":\"\",\"zerolinecolor\":\"white\",\"gridwidth\":2},\"yaxis\":{\"backgroundcolor\":\"#E5ECF6\",\"gridcolor\":\"white\",\"linecolor\":\"white\",\"showbackground\":true,\"ticks\":\"\",\"zerolinecolor\":\"white\",\"gridwidth\":2},\"zaxis\":{\"backgroundcolor\":\"#E5ECF6\",\"gridcolor\":\"white\",\"linecolor\":\"white\",\"showbackground\":true,\"ticks\":\"\",\"zerolinecolor\":\"white\",\"gridwidth\":2}},\"shapedefaults\":{\"line\":{\"color\":\"#2a3f5f\"}},\"annotationdefaults\":{\"arrowcolor\":\"#2a3f5f\",\"arrowhead\":0,\"arrowwidth\":1},\"geo\":{\"bgcolor\":\"white\",\"landcolor\":\"#E5ECF6\",\"subunitcolor\":\"white\",\"showland\":true,\"showlakes\":true,\"lakecolor\":\"white\"},\"title\":{\"x\":0.05},\"mapbox\":{\"style\":\"light\"}}},\"xaxis\":{\"anchor\":\"y\",\"domain\":[0.0,1.0],\"title\":{\"text\":\"most_ads_day\"},\"categoryorder\":\"array\",\"categoryarray\":[\"Friday\",\"Monday\",\"Saturday\",\"Sunday\",\"Thursday\",\"Tuesday\",\"Wednesday\"]},\"yaxis\":{\"anchor\":\"x\",\"domain\":[0.0,1.0],\"title\":{\"text\":\"value\"}},\"legend\":{\"title\":{\"text\":\"most_ads_day\"},\"tracegroupgap\":0},\"title\":{\"text\":\"most profitable day\"},\"barmode\":\"relative\"},                        {\"responsive\": true}                    ).then(function(){\n",
       "                            \n",
       "var gd = document.getElementById('478c9d74-7c8b-4b94-ac67-5bb7e4d71213');\n",
       "var x = new MutationObserver(function (mutations, observer) {{\n",
       "        var display = window.getComputedStyle(gd).display;\n",
       "        if (!display || display === 'none') {{\n",
       "            console.log([gd, 'removed!']);\n",
       "            Plotly.purge(gd);\n",
       "            observer.disconnect();\n",
       "        }}\n",
       "}});\n",
       "\n",
       "// Listen for the removal of the full notebook cells\n",
       "var notebookContainer = gd.closest('#notebook-container');\n",
       "if (notebookContainer) {{\n",
       "    x.observe(notebookContainer, {childList: true});\n",
       "}}\n",
       "\n",
       "// Listen for the clearing of the current output cell\n",
       "var outputEl = gd.closest('.output');\n",
       "if (outputEl) {{\n",
       "    x.observe(outputEl, {childList: true});\n",
       "}}\n",
       "\n",
       "                        })                };                });            </script>        </div>"
      ]
     },
     "metadata": {},
     "output_type": "display_data"
    }
   ],
   "source": [
    "#conversion rates per day of the week\n",
    "days = ad[ad.converted==True].groupby('most_ads_day')['converted'].count()/ad[ad.converted==False].groupby('most_ads_day')['converted'].count()\n",
    "px.bar(days, color=days.index, title = 'most profitable day')"
   ]
  },
  {
   "cell_type": "markdown",
   "id": "586ba938",
   "metadata": {
    "papermill": {
     "duration": 0.00826,
     "end_time": "2023-05-18T19:39:37.260402",
     "exception": false,
     "start_time": "2023-05-18T19:39:37.252142",
     "status": "completed"
    },
    "tags": []
   },
   "source": [
    "### mondays are the most profitable days."
   ]
  },
  {
   "cell_type": "markdown",
   "id": "97f4e31a",
   "metadata": {
    "papermill": {
     "duration": 0.008138,
     "end_time": "2023-05-18T19:39:37.276959",
     "exception": false,
     "start_time": "2023-05-18T19:39:37.268821",
     "status": "completed"
    },
    "tags": []
   },
   "source": [
    "#### let's check what hours are the best"
   ]
  },
  {
   "cell_type": "code",
   "execution_count": 18,
   "id": "7504c56f",
   "metadata": {
    "execution": {
     "iopub.execute_input": "2023-05-18T19:39:37.297143Z",
     "iopub.status.busy": "2023-05-18T19:39:37.296777Z",
     "iopub.status.idle": "2023-05-18T19:39:37.306413Z",
     "shell.execute_reply": "2023-05-18T19:39:37.305392Z"
    },
    "papermill": {
     "duration": 0.022279,
     "end_time": "2023-05-18T19:39:37.308605",
     "exception": false,
     "start_time": "2023-05-18T19:39:37.286326",
     "status": "completed"
    },
    "tags": []
   },
   "outputs": [
    {
     "data": {
      "text/plain": [
       "24"
      ]
     },
     "execution_count": 18,
     "metadata": {},
     "output_type": "execute_result"
    }
   ],
   "source": [
    "# these hours are actually time stamps\n",
    "ad.most_ads_hour.nunique()"
   ]
  },
  {
   "cell_type": "markdown",
   "id": "28188d5a",
   "metadata": {
    "papermill": {
     "duration": 0.00893,
     "end_time": "2023-05-18T19:39:37.327193",
     "exception": false,
     "start_time": "2023-05-18T19:39:37.318263",
     "status": "completed"
    },
    "tags": []
   },
   "source": [
    "#### each hour represents a time. 0 = 12am, 20 = 8pm"
   ]
  },
  {
   "cell_type": "code",
   "execution_count": 19,
   "id": "ae6bb22e",
   "metadata": {
    "execution": {
     "iopub.execute_input": "2023-05-18T19:39:37.347238Z",
     "iopub.status.busy": "2023-05-18T19:39:37.346845Z",
     "iopub.status.idle": "2023-05-18T19:39:37.492723Z",
     "shell.execute_reply": "2023-05-18T19:39:37.491440Z"
    },
    "papermill": {
     "duration": 0.158951,
     "end_time": "2023-05-18T19:39:37.495131",
     "exception": false,
     "start_time": "2023-05-18T19:39:37.336180",
     "status": "completed"
    },
    "tags": []
   },
   "outputs": [
    {
     "data": {
      "text/html": [
       "<div>                            <div id=\"304c4d8f-19a5-4b31-a581-9b4ccde99e0b\" class=\"plotly-graph-div\" style=\"height:525px; width:100%;\"></div>            <script type=\"text/javascript\">                require([\"plotly\"], function(Plotly) {                    window.PLOTLYENV=window.PLOTLYENV || {};                                    if (document.getElementById(\"304c4d8f-19a5-4b31-a581-9b4ccde99e0b\")) {                    Plotly.newPlot(                        \"304c4d8f-19a5-4b31-a581-9b4ccde99e0b\",                        [{\"alignmentgroup\":\"True\",\"hovertemplate\":\"most_ads_hour=%{marker.color}<br>value=%{y}<extra></extra>\",\"legendgroup\":\"\",\"marker\":{\"color\":[0,1,2,3,4,5,6,7,8,9,10,11,12,13,14,15,16,17,18,19,20,21,22,23],\"coloraxis\":\"coloraxis\",\"pattern\":{\"shape\":\"\"}},\"name\":\"\",\"offsetgroup\":\"\",\"orientation\":\"v\",\"showlegend\":false,\"textposition\":\"auto\",\"x\":[0,1,2,3,4,5,6,7,8,9,10,11,12,13,14,15,16,17,18,19,20,21,22,23],\"xaxis\":\"x\",\"y\":[0.019589014787785672,0.013617395124094003,0.007627615881087424,0.010534529847834569,0.016105417276720352,0.02203856749311295,0.02372356884992264,0.018830525272547076,0.020263363598099934,0.01991786447638604,0.022327765039851514,0.02298584238941539,0.024736102931182894,0.02570752057729169,0.02941591422121896,0.030762940157783338,0.03187765408011018,0.029375727501072108,0.028245968409549984,0.02754782118575404,0.031218753471836464,0.03005133323827178,0.02717391304347826,0.023510315216253012],\"yaxis\":\"y\",\"type\":\"bar\"}],                        {\"template\":{\"data\":{\"histogram2dcontour\":[{\"type\":\"histogram2dcontour\",\"colorbar\":{\"outlinewidth\":0,\"ticks\":\"\"},\"colorscale\":[[0.0,\"#0d0887\"],[0.1111111111111111,\"#46039f\"],[0.2222222222222222,\"#7201a8\"],[0.3333333333333333,\"#9c179e\"],[0.4444444444444444,\"#bd3786\"],[0.5555555555555556,\"#d8576b\"],[0.6666666666666666,\"#ed7953\"],[0.7777777777777778,\"#fb9f3a\"],[0.8888888888888888,\"#fdca26\"],[1.0,\"#f0f921\"]]}],\"choropleth\":[{\"type\":\"choropleth\",\"colorbar\":{\"outlinewidth\":0,\"ticks\":\"\"}}],\"histogram2d\":[{\"type\":\"histogram2d\",\"colorbar\":{\"outlinewidth\":0,\"ticks\":\"\"},\"colorscale\":[[0.0,\"#0d0887\"],[0.1111111111111111,\"#46039f\"],[0.2222222222222222,\"#7201a8\"],[0.3333333333333333,\"#9c179e\"],[0.4444444444444444,\"#bd3786\"],[0.5555555555555556,\"#d8576b\"],[0.6666666666666666,\"#ed7953\"],[0.7777777777777778,\"#fb9f3a\"],[0.8888888888888888,\"#fdca26\"],[1.0,\"#f0f921\"]]}],\"heatmap\":[{\"type\":\"heatmap\",\"colorbar\":{\"outlinewidth\":0,\"ticks\":\"\"},\"colorscale\":[[0.0,\"#0d0887\"],[0.1111111111111111,\"#46039f\"],[0.2222222222222222,\"#7201a8\"],[0.3333333333333333,\"#9c179e\"],[0.4444444444444444,\"#bd3786\"],[0.5555555555555556,\"#d8576b\"],[0.6666666666666666,\"#ed7953\"],[0.7777777777777778,\"#fb9f3a\"],[0.8888888888888888,\"#fdca26\"],[1.0,\"#f0f921\"]]}],\"heatmapgl\":[{\"type\":\"heatmapgl\",\"colorbar\":{\"outlinewidth\":0,\"ticks\":\"\"},\"colorscale\":[[0.0,\"#0d0887\"],[0.1111111111111111,\"#46039f\"],[0.2222222222222222,\"#7201a8\"],[0.3333333333333333,\"#9c179e\"],[0.4444444444444444,\"#bd3786\"],[0.5555555555555556,\"#d8576b\"],[0.6666666666666666,\"#ed7953\"],[0.7777777777777778,\"#fb9f3a\"],[0.8888888888888888,\"#fdca26\"],[1.0,\"#f0f921\"]]}],\"contourcarpet\":[{\"type\":\"contourcarpet\",\"colorbar\":{\"outlinewidth\":0,\"ticks\":\"\"}}],\"contour\":[{\"type\":\"contour\",\"colorbar\":{\"outlinewidth\":0,\"ticks\":\"\"},\"colorscale\":[[0.0,\"#0d0887\"],[0.1111111111111111,\"#46039f\"],[0.2222222222222222,\"#7201a8\"],[0.3333333333333333,\"#9c179e\"],[0.4444444444444444,\"#bd3786\"],[0.5555555555555556,\"#d8576b\"],[0.6666666666666666,\"#ed7953\"],[0.7777777777777778,\"#fb9f3a\"],[0.8888888888888888,\"#fdca26\"],[1.0,\"#f0f921\"]]}],\"surface\":[{\"type\":\"surface\",\"colorbar\":{\"outlinewidth\":0,\"ticks\":\"\"},\"colorscale\":[[0.0,\"#0d0887\"],[0.1111111111111111,\"#46039f\"],[0.2222222222222222,\"#7201a8\"],[0.3333333333333333,\"#9c179e\"],[0.4444444444444444,\"#bd3786\"],[0.5555555555555556,\"#d8576b\"],[0.6666666666666666,\"#ed7953\"],[0.7777777777777778,\"#fb9f3a\"],[0.8888888888888888,\"#fdca26\"],[1.0,\"#f0f921\"]]}],\"mesh3d\":[{\"type\":\"mesh3d\",\"colorbar\":{\"outlinewidth\":0,\"ticks\":\"\"}}],\"scatter\":[{\"fillpattern\":{\"fillmode\":\"overlay\",\"size\":10,\"solidity\":0.2},\"type\":\"scatter\"}],\"parcoords\":[{\"type\":\"parcoords\",\"line\":{\"colorbar\":{\"outlinewidth\":0,\"ticks\":\"\"}}}],\"scatterpolargl\":[{\"type\":\"scatterpolargl\",\"marker\":{\"colorbar\":{\"outlinewidth\":0,\"ticks\":\"\"}}}],\"bar\":[{\"error_x\":{\"color\":\"#2a3f5f\"},\"error_y\":{\"color\":\"#2a3f5f\"},\"marker\":{\"line\":{\"color\":\"#E5ECF6\",\"width\":0.5},\"pattern\":{\"fillmode\":\"overlay\",\"size\":10,\"solidity\":0.2}},\"type\":\"bar\"}],\"scattergeo\":[{\"type\":\"scattergeo\",\"marker\":{\"colorbar\":{\"outlinewidth\":0,\"ticks\":\"\"}}}],\"scatterpolar\":[{\"type\":\"scatterpolar\",\"marker\":{\"colorbar\":{\"outlinewidth\":0,\"ticks\":\"\"}}}],\"histogram\":[{\"marker\":{\"pattern\":{\"fillmode\":\"overlay\",\"size\":10,\"solidity\":0.2}},\"type\":\"histogram\"}],\"scattergl\":[{\"type\":\"scattergl\",\"marker\":{\"colorbar\":{\"outlinewidth\":0,\"ticks\":\"\"}}}],\"scatter3d\":[{\"type\":\"scatter3d\",\"line\":{\"colorbar\":{\"outlinewidth\":0,\"ticks\":\"\"}},\"marker\":{\"colorbar\":{\"outlinewidth\":0,\"ticks\":\"\"}}}],\"scattermapbox\":[{\"type\":\"scattermapbox\",\"marker\":{\"colorbar\":{\"outlinewidth\":0,\"ticks\":\"\"}}}],\"scatterternary\":[{\"type\":\"scatterternary\",\"marker\":{\"colorbar\":{\"outlinewidth\":0,\"ticks\":\"\"}}}],\"scattercarpet\":[{\"type\":\"scattercarpet\",\"marker\":{\"colorbar\":{\"outlinewidth\":0,\"ticks\":\"\"}}}],\"carpet\":[{\"aaxis\":{\"endlinecolor\":\"#2a3f5f\",\"gridcolor\":\"white\",\"linecolor\":\"white\",\"minorgridcolor\":\"white\",\"startlinecolor\":\"#2a3f5f\"},\"baxis\":{\"endlinecolor\":\"#2a3f5f\",\"gridcolor\":\"white\",\"linecolor\":\"white\",\"minorgridcolor\":\"white\",\"startlinecolor\":\"#2a3f5f\"},\"type\":\"carpet\"}],\"table\":[{\"cells\":{\"fill\":{\"color\":\"#EBF0F8\"},\"line\":{\"color\":\"white\"}},\"header\":{\"fill\":{\"color\":\"#C8D4E3\"},\"line\":{\"color\":\"white\"}},\"type\":\"table\"}],\"barpolar\":[{\"marker\":{\"line\":{\"color\":\"#E5ECF6\",\"width\":0.5},\"pattern\":{\"fillmode\":\"overlay\",\"size\":10,\"solidity\":0.2}},\"type\":\"barpolar\"}],\"pie\":[{\"automargin\":true,\"type\":\"pie\"}]},\"layout\":{\"autotypenumbers\":\"strict\",\"colorway\":[\"#636efa\",\"#EF553B\",\"#00cc96\",\"#ab63fa\",\"#FFA15A\",\"#19d3f3\",\"#FF6692\",\"#B6E880\",\"#FF97FF\",\"#FECB52\"],\"font\":{\"color\":\"#2a3f5f\"},\"hovermode\":\"closest\",\"hoverlabel\":{\"align\":\"left\"},\"paper_bgcolor\":\"white\",\"plot_bgcolor\":\"#E5ECF6\",\"polar\":{\"bgcolor\":\"#E5ECF6\",\"angularaxis\":{\"gridcolor\":\"white\",\"linecolor\":\"white\",\"ticks\":\"\"},\"radialaxis\":{\"gridcolor\":\"white\",\"linecolor\":\"white\",\"ticks\":\"\"}},\"ternary\":{\"bgcolor\":\"#E5ECF6\",\"aaxis\":{\"gridcolor\":\"white\",\"linecolor\":\"white\",\"ticks\":\"\"},\"baxis\":{\"gridcolor\":\"white\",\"linecolor\":\"white\",\"ticks\":\"\"},\"caxis\":{\"gridcolor\":\"white\",\"linecolor\":\"white\",\"ticks\":\"\"}},\"coloraxis\":{\"colorbar\":{\"outlinewidth\":0,\"ticks\":\"\"}},\"colorscale\":{\"sequential\":[[0.0,\"#0d0887\"],[0.1111111111111111,\"#46039f\"],[0.2222222222222222,\"#7201a8\"],[0.3333333333333333,\"#9c179e\"],[0.4444444444444444,\"#bd3786\"],[0.5555555555555556,\"#d8576b\"],[0.6666666666666666,\"#ed7953\"],[0.7777777777777778,\"#fb9f3a\"],[0.8888888888888888,\"#fdca26\"],[1.0,\"#f0f921\"]],\"sequentialminus\":[[0.0,\"#0d0887\"],[0.1111111111111111,\"#46039f\"],[0.2222222222222222,\"#7201a8\"],[0.3333333333333333,\"#9c179e\"],[0.4444444444444444,\"#bd3786\"],[0.5555555555555556,\"#d8576b\"],[0.6666666666666666,\"#ed7953\"],[0.7777777777777778,\"#fb9f3a\"],[0.8888888888888888,\"#fdca26\"],[1.0,\"#f0f921\"]],\"diverging\":[[0,\"#8e0152\"],[0.1,\"#c51b7d\"],[0.2,\"#de77ae\"],[0.3,\"#f1b6da\"],[0.4,\"#fde0ef\"],[0.5,\"#f7f7f7\"],[0.6,\"#e6f5d0\"],[0.7,\"#b8e186\"],[0.8,\"#7fbc41\"],[0.9,\"#4d9221\"],[1,\"#276419\"]]},\"xaxis\":{\"gridcolor\":\"white\",\"linecolor\":\"white\",\"ticks\":\"\",\"title\":{\"standoff\":15},\"zerolinecolor\":\"white\",\"automargin\":true,\"zerolinewidth\":2},\"yaxis\":{\"gridcolor\":\"white\",\"linecolor\":\"white\",\"ticks\":\"\",\"title\":{\"standoff\":15},\"zerolinecolor\":\"white\",\"automargin\":true,\"zerolinewidth\":2},\"scene\":{\"xaxis\":{\"backgroundcolor\":\"#E5ECF6\",\"gridcolor\":\"white\",\"linecolor\":\"white\",\"showbackground\":true,\"ticks\":\"\",\"zerolinecolor\":\"white\",\"gridwidth\":2},\"yaxis\":{\"backgroundcolor\":\"#E5ECF6\",\"gridcolor\":\"white\",\"linecolor\":\"white\",\"showbackground\":true,\"ticks\":\"\",\"zerolinecolor\":\"white\",\"gridwidth\":2},\"zaxis\":{\"backgroundcolor\":\"#E5ECF6\",\"gridcolor\":\"white\",\"linecolor\":\"white\",\"showbackground\":true,\"ticks\":\"\",\"zerolinecolor\":\"white\",\"gridwidth\":2}},\"shapedefaults\":{\"line\":{\"color\":\"#2a3f5f\"}},\"annotationdefaults\":{\"arrowcolor\":\"#2a3f5f\",\"arrowhead\":0,\"arrowwidth\":1},\"geo\":{\"bgcolor\":\"white\",\"landcolor\":\"#E5ECF6\",\"subunitcolor\":\"white\",\"showland\":true,\"showlakes\":true,\"lakecolor\":\"white\"},\"title\":{\"x\":0.05},\"mapbox\":{\"style\":\"light\"}}},\"xaxis\":{\"anchor\":\"y\",\"domain\":[0.0,1.0],\"title\":{\"text\":\"most_ads_hour\"}},\"yaxis\":{\"anchor\":\"x\",\"domain\":[0.0,1.0],\"title\":{\"text\":\"value\"}},\"coloraxis\":{\"colorbar\":{\"title\":{\"text\":\"most_ads_hour\"}},\"colorscale\":[[0.0,\"#0d0887\"],[0.1111111111111111,\"#46039f\"],[0.2222222222222222,\"#7201a8\"],[0.3333333333333333,\"#9c179e\"],[0.4444444444444444,\"#bd3786\"],[0.5555555555555556,\"#d8576b\"],[0.6666666666666666,\"#ed7953\"],[0.7777777777777778,\"#fb9f3a\"],[0.8888888888888888,\"#fdca26\"],[1.0,\"#f0f921\"]]},\"legend\":{\"tracegroupgap\":0},\"title\":{\"text\":\"conversion rates by hour of day\"},\"barmode\":\"relative\"},                        {\"responsive\": true}                    ).then(function(){\n",
       "                            \n",
       "var gd = document.getElementById('304c4d8f-19a5-4b31-a581-9b4ccde99e0b');\n",
       "var x = new MutationObserver(function (mutations, observer) {{\n",
       "        var display = window.getComputedStyle(gd).display;\n",
       "        if (!display || display === 'none') {{\n",
       "            console.log([gd, 'removed!']);\n",
       "            Plotly.purge(gd);\n",
       "            observer.disconnect();\n",
       "        }}\n",
       "}});\n",
       "\n",
       "// Listen for the removal of the full notebook cells\n",
       "var notebookContainer = gd.closest('#notebook-container');\n",
       "if (notebookContainer) {{\n",
       "    x.observe(notebookContainer, {childList: true});\n",
       "}}\n",
       "\n",
       "// Listen for the clearing of the current output cell\n",
       "var outputEl = gd.closest('.output');\n",
       "if (outputEl) {{\n",
       "    x.observe(outputEl, {childList: true});\n",
       "}}\n",
       "\n",
       "                        })                };                });            </script>        </div>"
      ]
     },
     "metadata": {},
     "output_type": "display_data"
    }
   ],
   "source": [
    "hours = ad[ad.converted==True].groupby('most_ads_hour')['converted'].count()/ad[ad.converted==False].groupby('most_ads_hour')['converted'].count()\n",
    "px.bar(hours, color=hours.index, title = 'conversion rates by hour of day')"
   ]
  },
  {
   "cell_type": "markdown",
   "id": "c66b9dae",
   "metadata": {
    "papermill": {
     "duration": 0.008821,
     "end_time": "2023-05-18T19:39:37.513243",
     "exception": false,
     "start_time": "2023-05-18T19:39:37.504422",
     "status": "completed"
    },
    "tags": []
   },
   "source": [
    "#### we can see that the peak time is during the day. between 1pm - 6pm. \n",
    "\n",
    "##### another peak is between 7pm and 11pm"
   ]
  },
  {
   "cell_type": "markdown",
   "id": "f09a042b",
   "metadata": {
    "papermill": {
     "duration": 0.009088,
     "end_time": "2023-05-18T19:39:37.531608",
     "exception": false,
     "start_time": "2023-05-18T19:39:37.522520",
     "status": "completed"
    },
    "tags": []
   },
   "source": [
    "## conclusions and recommendations\n",
    "- the difference in their conversion rates are statistically significant.\n",
    "- the ads are successful. they had better reach and conversions. \n",
    "- mondays saw the conversions. and peak hours are between 12pm - 11pm\n",
    "- i suggest we run our most of our ads on mondays or tuesdays between these hours."
   ]
  },
  {
   "cell_type": "code",
   "execution_count": null,
   "id": "a283b4b1",
   "metadata": {
    "papermill": {
     "duration": 0.00891,
     "end_time": "2023-05-18T19:39:37.550257",
     "exception": false,
     "start_time": "2023-05-18T19:39:37.541347",
     "status": "completed"
    },
    "tags": []
   },
   "outputs": [],
   "source": []
  }
 ],
 "metadata": {
  "kernelspec": {
   "display_name": "Python 3",
   "language": "python",
   "name": "python3"
  },
  "language_info": {
   "codemirror_mode": {
    "name": "ipython",
    "version": 3
   },
   "file_extension": ".py",
   "mimetype": "text/x-python",
   "name": "python",
   "nbconvert_exporter": "python",
   "pygments_lexer": "ipython3",
   "version": "3.10.10"
  },
  "papermill": {
   "default_parameters": {},
   "duration": 18.968379,
   "end_time": "2023-05-18T19:39:38.784314",
   "environment_variables": {},
   "exception": null,
   "input_path": "__notebook__.ipynb",
   "output_path": "__notebook__.ipynb",
   "parameters": {},
   "start_time": "2023-05-18T19:39:19.815935",
   "version": "2.4.0"
  }
 },
 "nbformat": 4,
 "nbformat_minor": 5
}
